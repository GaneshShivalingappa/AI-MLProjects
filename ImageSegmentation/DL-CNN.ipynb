{
 "cells": [
  {
   "cell_type": "code",
   "execution_count": null,
   "id": "11e92d96",
   "metadata": {},
   "outputs": [],
   "source": [
    "import datetime\n",
    "import os\n",
    "import tensorflow as tf\n",
    "from tensorflow.keras import backend as K\n",
    "from tensorflow.keras.layers import (\n",
    "    Flatten, Dense, Reshape, Conv2D, MaxPool2D, Conv2DTranspose\n",
    "    )\n",
    "import matplotlib.pyplot as plt\n",
    "\n",
    "plt.rcParams['image.cmap'] = 'Greys_r'"
   ]
  },
  {
   "cell_type": "code",
   "execution_count": 5,
   "id": "d0e25260",
   "metadata": {},
   "outputs": [],
   "source": [
    "# loading the training and test sets from TFRecords\n",
    "raw_training_dataset = tf.data.TFRecordDataset('data/train_images.tfrecords')\n",
    "raw_val_dataset      = tf.data.TFRecordDataset('data/val_images.tfrecords')"
   ]
  },
  {
   "cell_type": "code",
   "execution_count": null,
   "id": "ef41acee",
   "metadata": {},
   "outputs": [],
   "source": [
    "# dictionary describing the fields stored in TFRecord, and used to extract the date from the TFRecords\n",
    "image_feature_description = {\n",
    "    'height':    tf.io.FixedLenFeature([], tf.int64),\n",
    "    'width':     tf.io.FixedLenFeature([], tf.int64),\n",
    "    'depth':     tf.io.FixedLenFeature([], tf.int64),\n",
    "    'name' :     tf.io.FixedLenFeature([], tf.string),\n",
    "    'image_raw': tf.io.FixedLenFeature([], tf.string),\n",
    "    'label_raw': tf.io.FixedLenFeature([], tf.string),\n",
    "}\n"
   ]
  },
  {
   "cell_type": "code",
   "execution_count": null,
   "id": "f36225c5",
   "metadata": {},
   "outputs": [],
   "source": [
    "# helper function to extract an image from the dictionary\n",
    "def _parse_image_function(example_proto):\n",
    "    return tf.io.parse_single_example(example_proto, image_feature_description)\n",
    "\n",
    "parsed_training_dataset = raw_training_dataset.map(_parse_image_function)\n",
    "parsed_val_dataset      = raw_val_dataset.map(_parse_image_function)"
   ]
  }
 ],
 "metadata": {
  "kernelspec": {
   "display_name": "myenv",
   "language": "python",
   "name": "python3"
  },
  "language_info": {
   "codemirror_mode": {
    "name": "ipython",
    "version": 3
   },
   "file_extension": ".py",
   "mimetype": "text/x-python",
   "name": "python",
   "nbconvert_exporter": "python",
   "pygments_lexer": "ipython3",
   "version": "3.9.10"
  }
 },
 "nbformat": 4,
 "nbformat_minor": 5
}
